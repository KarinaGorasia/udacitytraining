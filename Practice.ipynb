{
 "cells": [
  {
   "cell_type": "code",
   "execution_count": 61,
   "id": "70da1cef",
   "metadata": {},
   "outputs": [],
   "source": [
    "import re\n",
    "def word_counts(s):\n",
    "    '''\n",
    "    function to count frequency of words in string, stripping punctuation and case insensitive. \n",
    "    input: string, must be surrounded by double quotation marks, unless singular quotation is escaped\n",
    "    output: print words + frequency in alphabetical order\n",
    "    '''\n",
    "    \n",
    "    # remove punctuation, lowercase, split words into list\n",
    "    words = re.sub(r'[^\\w\\s]', '', s).lower().split()\n",
    "    # instantiate empty dict for word counts\n",
    "    counts = dict()\n",
    "    \n",
    "    # loop through words list - if word exists in counts dict, add to count, else start add word to dict\n",
    "    for word in words:\n",
    "        if word in counts:\n",
    "            counts[word] +=1\n",
    "        else:\n",
    "            counts[word] = 1 \n",
    "    \n",
    "    for key, value in counts.items():\n",
    "        print(key + \"-\" + str(value)) "
   ]
  },
  {
   "cell_type": "code",
   "execution_count": 63,
   "id": "50ed6834",
   "metadata": {},
   "outputs": [
    {
     "name": "stdout",
     "output_type": "stream",
     "text": [
      "as-2\n",
      "he-2\n",
      "crossed-1\n",
      "toward-1\n",
      "the-4\n",
      "pharmacy-1\n",
      "at-1\n",
      "corner-1\n",
      "involuntarily-1\n",
      "turned-1\n",
      "his-2\n",
      "head-1\n",
      "because-1\n",
      "of-5\n",
      "a-7\n",
      "burst-1\n",
      "light-1\n",
      "that-2\n",
      "had-1\n",
      "ricocheted-1\n",
      "from-2\n",
      "temple-1\n",
      "and-2\n",
      "saw-1\n",
      "with-4\n",
      "quick-1\n",
      "smile-1\n",
      "which-2\n",
      "we-1\n",
      "greet-1\n",
      "rainbow-1\n",
      "or-1\n",
      "rose-1\n",
      "blindingly-1\n",
      "white-1\n",
      "parallelogram-1\n",
      "sky-2\n",
      "being-1\n",
      "unloaded-1\n",
      "vana-1\n",
      "dresser-1\n",
      "mirrors-1\n",
      "across-2\n",
      "cinema-1\n",
      "screen-1\n",
      "passed-1\n",
      "flawlessly-1\n",
      "clear-1\n",
      "reflection-1\n",
      "boughs-2\n",
      "sliding-1\n",
      "swaying-1\n",
      "not-1\n",
      "arboreally-1\n",
      "but-1\n",
      "human-1\n",
      "vacillation-1\n",
      "produced-1\n",
      "by-1\n",
      "nature-1\n",
      "those-1\n",
      "who-1\n",
      "were-1\n",
      "carrying-1\n",
      "this-2\n",
      "these-1\n",
      "gliding-1\n",
      "façade-1\n"
     ]
    }
   ],
   "source": [
    "word_counts(\"As he crossed toward the pharmacy at the corner he involuntarily turned his head because of a burst of light that had ricocheted from his temple, and saw, with that quick smile with which we greet a rainbow or a rose, a blindingly white parallelogram of sky being unloaded from the van—a dresser with mirrors across which, as across a cinema screen, passed a flawlessly clear reflection of boughs sliding and swaying not arboreally, but with a human vacillation, produced by the nature of those who were carrying this sky, these boughs, this gliding façade.\")"
   ]
  },
  {
   "cell_type": "code",
   "execution_count": null,
   "id": "909ee512",
   "metadata": {},
   "outputs": [],
   "source": []
  }
 ],
 "metadata": {
  "kernelspec": {
   "display_name": "Python 3",
   "language": "python",
   "name": "python3"
  },
  "language_info": {
   "codemirror_mode": {
    "name": "ipython",
    "version": 3
   },
   "file_extension": ".py",
   "mimetype": "text/x-python",
   "name": "python",
   "nbconvert_exporter": "python",
   "pygments_lexer": "ipython3",
   "version": "3.8.8"
  }
 },
 "nbformat": 4,
 "nbformat_minor": 5
}
